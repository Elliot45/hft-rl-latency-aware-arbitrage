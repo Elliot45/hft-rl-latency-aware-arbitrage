{
 "cells": [
  {
   "cell_type": "markdown",
   "id": "0bc05a6a",
   "metadata": {},
   "source": [
    "# Évaluation de l'agent PPO entraîné\n"
   ]
  },
  {
   "cell_type": "code",
   "execution_count": null,
   "id": "a3af9a94",
   "metadata": {
    "vscode": {
     "languageId": "plaintext"
    }
   },
   "outputs": [],
   "source": [
    "from stable_baselines3 import PPO\n",
    "from src.environment import HFTEnv\n",
    "import numpy as np\n",
    "import matplotlib.pyplot as plt\n",
    "\n",
    "env = HFTEnv()\n",
    "model = PPO.load(\"results/checkpoints/ppo_hft_model\")\n",
    "\n",
    "obs, _ = env.reset()\n",
    "rewards, prices, actions, inventory, cash = [], [], [], [], []\n",
    "\n",
    "for _ in range(500):\n",
    "    action, _ = model.predict(obs, deterministic=True)\n",
    "    obs, reward, done, _, _ = env.step(action)\n",
    "\n",
    "    rewards.append(reward)\n",
    "    prices.append(env.price)\n",
    "    actions.append(action)\n",
    "    inventory.append(env.inventory)\n",
    "    cash.append(env.cash)\n",
    "\n",
    "    if done:\n",
    "        break\n"
   ]
  },
  {
   "cell_type": "code",
   "execution_count": null,
   "id": "d0914c93",
   "metadata": {
    "vscode": {
     "languageId": "plaintext"
    }
   },
   "outputs": [],
   "source": [
    "print(f\"📈 Reward final : {rewards[-1]:.2f}\")\n",
    "print(f\"📦 Inventaire final : {inventory[-1]}\")\n",
    "print(f\"💰 Cash final : {cash[-1]:.2f}\")\n",
    "\n",
    "import pandas as pd\n",
    "\n",
    "df = pd.DataFrame({\n",
    "    \"reward\": rewards,\n",
    "    \"price\": prices,\n",
    "    \"action\": actions,\n",
    "    \"inventory\": inventory,\n",
    "    \"cash\": cash\n",
    "})\n",
    "\n",
    "# Plot du reward\n",
    "plt.plot(df[\"reward\"])\n",
    "plt.title(\"Reward cumulée\")\n",
    "plt.xlabel(\"Step\")\n",
    "plt.ylabel(\"Reward\")\n",
    "plt.grid()\n",
    "plt.show()\n"
   ]
  }
 ],
 "metadata": {
  "language_info": {
   "name": "python"
  }
 },
 "nbformat": 4,
 "nbformat_minor": 5
}
