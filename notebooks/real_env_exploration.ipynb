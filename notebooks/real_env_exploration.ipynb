{
 "cells": [
  {
   "cell_type": "code",
   "execution_count": null,
   "id": "c0e5479d",
   "metadata": {},
   "outputs": [],
   "source": [
    "import sys\n",
    "import os\n",
    "\n",
    "# Ajoute le dossier parent au chemin\n",
    "sys.path.append(os.path.abspath(\"..\"))\n"
   ]
  },
  {
   "cell_type": "code",
   "execution_count": 1,
   "id": "129d0a02",
   "metadata": {},
   "outputs": [
    {
     "ename": "ModuleNotFoundError",
     "evalue": "No module named 'src'",
     "output_type": "error",
     "traceback": [
      "\u001b[1;31m---------------------------------------------------------------------------\u001b[0m",
      "\u001b[1;31mModuleNotFoundError\u001b[0m                       Traceback (most recent call last)",
      "Cell \u001b[1;32mIn[1], line 4\u001b[0m\n\u001b[0;32m      2\u001b[0m \u001b[38;5;28;01mimport\u001b[39;00m \u001b[38;5;21;01mmatplotlib\u001b[39;00m\u001b[38;5;21;01m.\u001b[39;00m\u001b[38;5;21;01mpyplot\u001b[39;00m \u001b[38;5;28;01mas\u001b[39;00m \u001b[38;5;21;01mplt\u001b[39;00m\n\u001b[0;32m      3\u001b[0m \u001b[38;5;28;01mimport\u001b[39;00m \u001b[38;5;21;01mnumpy\u001b[39;00m \u001b[38;5;28;01mas\u001b[39;00m \u001b[38;5;21;01mnp\u001b[39;00m\n\u001b[1;32m----> 4\u001b[0m \u001b[38;5;28;01mfrom\u001b[39;00m \u001b[38;5;21;01msrc\u001b[39;00m\u001b[38;5;21;01m.\u001b[39;00m\u001b[38;5;21;01mreal_hft_env\u001b[39;00m \u001b[38;5;28;01mimport\u001b[39;00m RealHFTEnv\n\u001b[0;32m      5\u001b[0m \u001b[38;5;28;01mfrom\u001b[39;00m \u001b[38;5;21;01mstable_baselines3\u001b[39;00m \u001b[38;5;28;01mimport\u001b[39;00m PPO\n\u001b[0;32m      6\u001b[0m \u001b[38;5;28;01mimport\u001b[39;00m \u001b[38;5;21;01mos\u001b[39;00m\n",
      "\u001b[1;31mModuleNotFoundError\u001b[0m: No module named 'src'"
     ]
    }
   ],
   "source": [
    "import pandas as pd\n",
    "import matplotlib.pyplot as plt\n",
    "import numpy as np\n",
    "from src.real_hft_env import RealHFTEnv\n",
    "from stable_baselines3 import PPO\n",
    "import os\n",
    "import matplotlib.animation as animation"
   ]
  },
  {
   "cell_type": "code",
   "execution_count": null,
   "id": "b01541bd",
   "metadata": {},
   "outputs": [],
   "source": [
    "file = \"data/ethusdt_ticks.csv\"\n",
    "df = pd.read_csv(file)\n",
    "df[\"timestamp\"] = pd.to_datetime(df[\"timestamp\"])\n",
    "df.head()"
   ]
  },
  {
   "cell_type": "code",
   "execution_count": null,
   "id": "5f48c1cf",
   "metadata": {},
   "outputs": [],
   "source": [
    "plt.figure(figsize=(12, 4))\n",
    "plt.plot(df[\"timestamp\"], df[\"price\"], label=\"Prix\")\n",
    "plt.title(\"Prix ETH/USDT - Binance\")\n",
    "plt.xlabel(\"Time\")\n",
    "plt.ylabel(\"Price\")\n",
    "plt.grid()\n",
    "plt.legend()\n",
    "plt.tight_layout()\n",
    "os.makedirs(\"results/plots\", exist_ok=True)\n",
    "plt.savefig(\"results/plots/price_evolution.png\")\n",
    "plt.show()"
   ]
  },
  {
   "cell_type": "code",
   "execution_count": null,
   "id": "36a4a034",
   "metadata": {},
   "outputs": [],
   "source": [
    "env = RealHFTEnv(csv_path=file, max_steps=500)\n",
    "obs, _ = env.reset()\n",
    "\n",
    "rewards_random, prices, inventory_random, cash_random = [], [], [], []\n",
    "\n",
    "done = False\n",
    "while not done:\n",
    "    action = np.random.choice([0, 1, 2])\n",
    "    obs, reward, done, _, info = env.step(action)\n",
    "    rewards_random.append(reward)\n",
    "    prices.append(info[\"price\"])\n",
    "    inventory_random.append(info[\"inventory\"])\n",
    "    cash_random.append(info[\"cash\"])"
   ]
  },
  {
   "cell_type": "code",
   "execution_count": null,
   "id": "1f4c6d1c",
   "metadata": {},
   "outputs": [],
   "source": [
    "env = RealHFTEnv(csv_path=file, max_steps=500)\n",
    "obs, _ = env.reset()\n",
    "\n",
    "rewards_bh, inventory_bh, cash_bh = [], [], []\n",
    "done = False\n",
    "first_action_done = False\n",
    "\n",
    "while not done:\n",
    "    if not first_action_done:\n",
    "        action = 1  # Buy\n",
    "        first_action_done = True\n",
    "    else:\n",
    "        action = 0  # Hold\n",
    "    obs, reward, done, _, info = env.step(action)\n",
    "    rewards_bh.append(reward)\n",
    "    inventory_bh.append(info[\"inventory\"])\n",
    "    cash_bh.append(info[\"cash\"])"
   ]
  },
  {
   "cell_type": "code",
   "execution_count": null,
   "id": "307c645f",
   "metadata": {},
   "outputs": [],
   "source": [
    "model_path = \"results/checkpoints/ppo_real_env_model.zip\"\n",
    "model = PPO.load(model_path)\n",
    "\n",
    "env = RealHFTEnv(csv_path=file, max_steps=500)\n",
    "obs, _ = env.reset()\n",
    "\n",
    "rewards_ppo, inventory_ppo, cash_ppo, price_ppo = [], [], [], []\n",
    "done = False\n",
    "while not done:\n",
    "    action, _ = model.predict(obs, deterministic=True)\n",
    "    obs, reward, done, _, info = env.step(action)\n",
    "    rewards_ppo.append(reward)\n",
    "    inventory_ppo.append(info[\"inventory\"])\n",
    "    cash_ppo.append(info[\"cash\"])\n",
    "    price_ppo.append(info[\"price\"])"
   ]
  },
  {
   "cell_type": "code",
   "execution_count": null,
   "id": "b33e48cc",
   "metadata": {},
   "outputs": [],
   "source": [
    "log_df = pd.DataFrame({\n",
    "    \"step\": list(range(len(rewards_ppo))),\n",
    "    \"price\": price_ppo,\n",
    "    \"reward\": rewards_ppo,\n",
    "    \"inventory\": inventory_ppo,\n",
    "    \"cash\": cash_ppo\n",
    "})\n",
    "os.makedirs(\"results/logs\", exist_ok=True)\n",
    "log_df.to_csv(\"results/logs/ppo_run_log.csv\", index=False)"
   ]
  },
  {
   "cell_type": "code",
   "execution_count": null,
   "id": "a71a30f7",
   "metadata": {},
   "outputs": [],
   "source": [
    "plt.figure(figsize=(12, 5))\n",
    "plt.plot(rewards_ppo, label=\"PPO\")\n",
    "plt.plot(rewards_random, label=\"Random\")\n",
    "plt.plot(rewards_bh, label=\"Buy & Hold\")\n",
    "plt.title(\"Reward cumulée - PPO vs Random vs Buy & Hold\")\n",
    "plt.xlabel(\"Step\")\n",
    "plt.ylabel(\"Reward\")\n",
    "plt.grid()\n",
    "plt.legend()\n",
    "plt.tight_layout()\n",
    "plt.savefig(\"results/plots/reward_comparison.png\")\n",
    "plt.show()"
   ]
  },
  {
   "cell_type": "code",
   "execution_count": null,
   "id": "11b5b6df",
   "metadata": {},
   "outputs": [],
   "source": [
    "plt.figure(figsize=(12, 4))\n",
    "plt.plot(inventory_ppo, label=\"PPO\")\n",
    "plt.plot(inventory_random, label=\"Random\")\n",
    "plt.plot(inventory_bh, label=\"Buy & Hold\")\n",
    "plt.title(\"Évolution de l'inventaire\")\n",
    "plt.xlabel(\"Step\")\n",
    "plt.grid()\n",
    "plt.legend()\n",
    "plt.tight_layout()\n",
    "plt.savefig(\"results/plots/inventory_comparison.png\")\n",
    "plt.show()"
   ]
  },
  {
   "cell_type": "code",
   "execution_count": null,
   "id": "213ca88b",
   "metadata": {},
   "outputs": [],
   "source": [
    "plt.figure(figsize=(12, 4))\n",
    "plt.plot(cash_ppo, label=\"PPO\")\n",
    "plt.plot(cash_random, label=\"Random\")\n",
    "plt.plot(cash_bh, label=\"Buy & Hold\")\n",
    "plt.title(\"Cash\")\n",
    "plt.xlabel(\"Step\")\n",
    "plt.grid()\n",
    "plt.legend()\n",
    "plt.tight_layout()\n",
    "plt.savefig(\"results/plots/cash_comparison.png\")\n",
    "plt.show()"
   ]
  },
  {
   "cell_type": "code",
   "execution_count": null,
   "id": "f99a92be",
   "metadata": {},
   "outputs": [],
   "source": [
    "fig, ax = plt.subplots(figsize=(10, 4))\n",
    "line1, = ax.plot([], [], label=\"Prix\")\n",
    "line2, = ax.plot([], [], label=\"Inventaire\")\n",
    "\n",
    "ax.set_xlim(0, len(price_ppo))\n",
    "ax.set_ylim(min(price_ppo) * 0.95, max(price_ppo) * 1.05)\n",
    "ax.set_title(\"Évolution Prix vs Inventaire (PPO)\")\n",
    "ax.set_xlabel(\"Step\")\n",
    "ax.grid()\n",
    "ax.legend()\n",
    "\n",
    "x_data, y_price, y_inventory = [], [], []\n",
    "\n",
    "\n",
    "def update(frame):\n",
    "    x_data.append(frame)\n",
    "    y_price.append(price_ppo[frame])\n",
    "    y_inventory.append(inventory_ppo[frame])\n",
    "\n",
    "    line1.set_data(x_data, y_price)\n",
    "    line2.set_data(x_data, y_inventory)\n",
    "    return line1, line2\n",
    "\n",
    "ani = animation.FuncAnimation(fig, update, frames=len(price_ppo), blit=True, interval=30)\n",
    "os.makedirs(\"results/animations\", exist_ok=True)\n",
    "ani.save(\"results/animations/ppo_price_inventory.gif\", writer=\"pillow\")\n",
    "plt.close(fig)\n"
   ]
  }
 ],
 "metadata": {
  "kernelspec": {
   "display_name": "Test",
   "language": "python",
   "name": "python3"
  },
  "language_info": {
   "codemirror_mode": {
    "name": "ipython",
    "version": 3
   },
   "file_extension": ".py",
   "mimetype": "text/x-python",
   "name": "python",
   "nbconvert_exporter": "python",
   "pygments_lexer": "ipython3",
   "version": "3.12.7"
  }
 },
 "nbformat": 4,
 "nbformat_minor": 5
}
